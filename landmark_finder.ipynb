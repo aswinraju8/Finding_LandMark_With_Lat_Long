{
  "cells": [
    {
      "cell_type": "markdown",
      "metadata": {
        "id": "view-in-github",
        "colab_type": "text"
      },
      "source": [
        "<a href=\"https://colab.research.google.com/github/aswinraju8/Finding_LandMark_With_Lat_Long/blob/main/landmark_finder.ipynb\" target=\"_parent\"><img src=\"https://colab.research.google.com/assets/colab-badge.svg\" alt=\"Open In Colab\"/></a>"
      ]
    },
    {
      "cell_type": "code",
      "execution_count": null,
      "metadata": {
        "colab": {
          "background_save": true
        },
        "id": "3Kvt92dVufGv"
      },
      "outputs": [],
      "source": [
        "import pandas as pd\n",
        "from geopy.geocoders import Nominatim\n",
        "from geopy.distance import geodesic\n",
        "\n",
        "\n",
        "RADIUS = 2  # Radius in kilometers\n",
        "\n",
        "#General landmarks for a place\n",
        "regular_landmarks = ['hospital', 'school', 'industrial', 'bus_station', 'train_station', 'police','Airport','Temple','College']\n",
        "#Function to get landmarks\n",
        "def get_landmarks_nearby(center_coords, radius):\n",
        "    geolocator = Nominatim(user_agent=\"my_geocoder\")\n",
        "\n",
        "    landmarks = []\n",
        "    for result in geolocator.reverse(center_coords, exactly_one=False):\n",
        "        dist = geodesic(center_coords, (result.latitude, result.longitude)).kilometers\n",
        "        #Checking whether the landmark is within the radius of the given cordinates\n",
        "        if dist <= radius and any(place_type in result.raw.get('type', []) for place_type in regular_landmarks):\n",
        "            landmarks.append((result.address, result.latitude, result.longitude))\n",
        "\n",
        "    return landmarks\n",
        "#importing excel file of latitude and longitude\n",
        "data = pd.read_excel(io='/content/unnati_phase1_data_revised.xlsx',dtype={'Alert':str,'Time':str,'Lat':float,'Long':float})\n",
        "data['Landmarks'] = None\n",
        "i=0\n",
        "for l in zip(data['Lat'],data['Long']):\n",
        "  landmarks = get_landmarks_nearby(l, RADIUS)\n",
        "  for address, lat, lng in landmarks:\n",
        "    print(f\"Address: {address}\\nLatitude: {lat}\\nLongitude: {lng}\\nNear:{l}\\nIndex:{i}\")\n",
        "    data.at[i,'Landmarks'] = address.split(',')[0]\n",
        "  i+=1\n",
        "data.to_excel('/content/unnati_phase1_data_revised.xlsx',index=False)"
      ]
    }
  ],
  "metadata": {
    "colab": {
      "provenance": [],
      "authorship_tag": "ABX9TyN+dUWLD3DNJV70wUCcIzTN",
      "include_colab_link": true
    },
    "kernelspec": {
      "display_name": "Python 3",
      "name": "python3"
    },
    "language_info": {
      "name": "python"
    }
  },
  "nbformat": 4,
  "nbformat_minor": 0
}