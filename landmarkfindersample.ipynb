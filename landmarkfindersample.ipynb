{
  "cells": [
    {
      "cell_type": "markdown",
      "metadata": {
        "id": "view-in-github",
        "colab_type": "text"
      },
      "source": [
        "<a href=\"https://colab.research.google.com/github/aswinraju8/Finding_LandMark_With_Lat_Long/blob/main/landmarkfindersample.ipynb\" target=\"_parent\"><img src=\"https://colab.research.google.com/assets/colab-badge.svg\" alt=\"Open In Colab\"/></a>"
      ]
    },
    {
      "cell_type": "code",
      "execution_count": null,
      "metadata": {
        "colab": {
          "background_save": true,
          "base_uri": "https://localhost:8080/"
        },
        "id": "3Kvt92dVufGv",
        "outputId": "5596e7a7-72f3-463a-c783-eddeac06cb52"
      },
      "outputs": [
        
        {
          "name": "stdout",
          "output_type": "stream",
          "text": [
            "Address: SCAD World School (CBSE), 45, Grand Southern Trunk Road, Palaveli, Chengalpattu, Chengalpattu District, Tamil Nadu, 603111, India\n",
            "Latitude: 12.66548925\n",
            "Longitude: 79.95787676513083\n",
            "Near:(12.664172, 79.960529)\n",
            "Index:83\n",
            "Address: எழும்பூர் அரசு மருத்துவமனை, Doctor Nair Road, Ward 61, Zone 5 Royapuram, Chennai, Chennai District, Tamil Nadu, 600008, India\n",
            "Latitude: 13.07274625\n",
            "Longitude: 80.25821866934686\n",
            "Near:(13.071684, 80.259156)\n",
            "Index:133\n"
          ]
        },
       
        {
          "name": "stdout",
          "output_type": "stream",
          "text": [
            "Address: SCAD World School (CBSE), 45, Grand Southern Trunk Road, Palaveli, Chengalpattu, Chengalpattu District, Tamil Nadu, 603111, India\n",
            "Latitude: 12.66548925\n",
            "Longitude: 79.95787676513083\n",
            "Near:(12.665579, 79.959749)\n",
            "Index:1126\n",
            "Address: எழும்பூர் அரசு மருத்துவமனை, Doctor Nair Road, Ward 61, Zone 5 Royapuram, Chennai, Chennai District, Tamil Nadu, 600008, India\n",
            "Latitude: 13.07274625\n",
            "Longitude: 80.25821866934686\n",
            "Near:(13.072147, 80.259668)\n",
            "Index:1173\n",
            "Address: எழும்பூர் அரசு மருத்துவமனை, Doctor Nair Road, Ward 61, Zone 5 Royapuram, Chennai, Chennai District, Tamil Nadu, 600008, India\n",
            "Latitude: 13.07274625\n",
            "Longitude: 80.25821866934686\n",
            "Near:(13.072147, 80.259668)\n",
            "Index:1174\n",
            "Address: Chennai - Trichy - Dindugal Road (Old NH45), Vedachalam Nagar, Gokulapuram, Chengalpattu, Chengalpattu District, Tamil Nadu, 603001, India\n",
            "Latitude: 12.6907966\n",
            "Longitude: 79.98034790627668\n",
            "Near:(12.690588, 79.980614)\n",
            "Index:1223\n"
          ]
        },
        {
          "name": "stdout",
          "output_type": "stream",
          "text": [
            "Address: Deepam Hospitals, No 107 A, Grand Southern Trunk Road, Chromepet, Pallavaram, Chengalpattu District, Tamil Nadu, 600044, India\n",
            "Latitude: 12.9617927\n",
            "Longitude: 80.14669375583625\n",
            "Near:(12.961513, 80.146125)\n",
            "Index:1281\n",
            "Address: Deepam Hospitals, No 107 A, Grand Southern Trunk Road, Chromepet, Pallavaram, Chengalpattu District, Tamil Nadu, 600044, India\n",
            "Latitude: 12.9617927\n",
            "Longitude: 80.14669375583625\n",
            "Near:(12.961075, 80.14585)\n",
            "Index:1282\n"
          ]
        },
        {
          "name": "stdout",
          "output_type": "stream",
          "text": [
            "Address: Asan Memorial HSS, Greams Road, Ward 111, Zone 9 Teynampet, Chennai, Chennai District, Tamil Nadu, 600001, India\n",
            "Latitude: 13.06232095\n",
            "Longitude: 80.25420203269015\n",
            "Near:(13.061968, 80.254379)\n",
            "Index:1948\n",
            "Address: Saidapet MTC Terminus, Seshachala Mudali Street, CMWSSB Division 171, Zone 13 Adyar, Chennai, Chennai District, Tamil Nadu, 600001, India\n",
            "Latitude: 13.02340435\n",
            "Longitude: 80.2276676154801\n",
            "Near:(13.024139, 80.228424)\n",
            "Index:2040\n"
          ]
        },
        
        {
          "name": "stdout",
          "output_type": "stream",
          "text": [
            "Address: Deepam Hospitals, No 107 A, Grand Southern Trunk Road, Chromepet, Pallavaram, Chengalpattu District, Tamil Nadu, 600044, India\n",
            "Latitude: 12.9617927\n",
            "Longitude: 80.14669375583625\n",
            "Near:(12.961659, 80.146195)\n",
            "Index:2101\n"
          ]
        },
        
        {
          "name": "stdout",
          "output_type": "stream",
          "text": [
            "Address: Chengalpattu Medical College Hospital, Chennai - Trichy - Dindugal Road (Old NH45), Vedachalam Nagar, Gokulapuram, Chengalpattu, Chengalpattu District, Tamil Nadu, 603001, India\n",
            "Latitude: 12.67578325\n",
            "Longitude: 79.97964429414516\n",
            "Near:(12.679746, 79.980869)\n",
            "Index:2292\n",
            "Address: Chengalpattu Medical College Hospital, Chennai - Trichy - Dindugal Road (Old NH45), Vedachalam Nagar, Gokulapuram, Chengalpattu, Chengalpattu District, Tamil Nadu, 603001, India\n",
            "Latitude: 12.67578325\n",
            "Longitude: 79.97964429414516\n",
            "Near:(12.679746, 79.980869)\n",
            "Index:2293\n",
            "Address: Chengalpattu Medical College Hospital, Chennai - Trichy - Dindugal Road (Old NH45), Vedachalam Nagar, Gokulapuram, Chengalpattu, Chengalpattu District, Tamil Nadu, 603001, India\n",
            "Latitude: 12.67578325\n",
            "Longitude: 79.97964429414516\n",
            "Near:(12.679746, 79.980869)\n",
            "Index:2294\n",
            "Address: Chengalpattu Medical College Hospital, Chennai - Trichy - Dindugal Road (Old NH45), Vedachalam Nagar, Gokulapuram, Chengalpattu, Chengalpattu District, Tamil Nadu, 603001, India\n",
            "Latitude: 12.67578325\n",
            "Longitude: 79.97964429414516\n",
            "Near:(12.679746, 79.980869)\n",
            "Index:2295\n"
          ]
        },
        
        {
          "name": "stdout",
          "output_type": "stream",
          "text": [
            "Address: SCAD World School (CBSE), 45, Grand Southern Trunk Road, Palaveli, Chengalpattu, Chengalpattu District, Tamil Nadu, 603111, India\n",
            "Latitude: 12.66548925\n",
            "Longitude: 79.95787676513083\n",
            "Near:(12.665072, 79.960026)\n",
            "Index:2537\n"
          ]
        },
        {
          "name": "stderr",
          "output_type": "stream",
          "text": [
            "WARNING:urllib3.connectionpool:Retrying (Retry(total=1, connect=None, read=None, redirect=None, status=None)) after connection broken by 'ReadTimeoutError(\"HTTPSConnectionPool(host='nominatim.openstreetmap.org', port=443): Read timed out. (read timeout=1)\")': /reverse?lat=12.925604&lon=80.116792&format=json&addressdetails=1\n",
            "WARNING:urllib3.connectionpool:Retrying (Retry(total=1, connect=None, read=None, redirect=None, status=None)) after connection broken by 'ReadTimeoutError(\"HTTPSConnectionPool(host='nominatim.openstreetmap.org', port=443): Read timed out. (read timeout=1)\")': /reverse?lat=12.943211&lon=80.133762&format=json&addressdetails=1\n",
            "WARNING:urllib3.connectionpool:Retrying (Retry(total=1, connect=None, read=None, redirect=None, status=None)) after connection broken by 'ReadTimeoutError(\"HTTPSConnectionPool(host='nominatim.openstreetmap.org', port=443): Read timed out. (read timeout=1)\")': /reverse?lat=12.972698&lon=80.152118&format=json&addressdetails=1\n"
          ]
        },
        {
          "name": "stdout",
          "output_type": "stream",
          "text": [
            "Address: 4 Squares Dentistry, 141-168, Velachery Mudhanmai Salai, Gowriwakkam, Chennai, Tambaram, Chengalpattu District, Tamil Nadu, 600117, India\n",
            "Latitude: 12.9214652\n",
            "Longitude: 80.1651302\n",
            "Near:(12.921624, 80.165548)\n",
            "Index:2808\n",
            "Address: 4 Squares Dentistry, 141-168, Velachery Mudhanmai Salai, Gowriwakkam, Chennai, Tambaram, Chengalpattu District, Tamil Nadu, 600117, India\n",
            "Latitude: 12.9214652\n",
            "Longitude: 80.1651302\n",
            "Near:(12.921624, 80.165548)\n",
            "Index:2809\n",
            "Address: Vasan, Anna Salai (Mount Road), Jothiammal Nagar, CMWSSB Division 142, Zone 10 Kodambakkam, Chennai, Chennai District, Tamil Nadu, 600015, India\n",
            "Latitude: 13.0217272\n",
            "Longitude: 80.22577756247465\n",
            "Near:(13.02165, 80.225876)\n",
            "Index:2837\n"
          ]
        },
       
        {
          "name": "stdout",
          "output_type": "stream",
          "text": [
            "Address: Saidapet MTC Terminus, Seshachala Mudali Street, CMWSSB Division 171, Zone 13 Adyar, Chennai, Chennai District, Tamil Nadu, 600001, India\n",
            "Latitude: 13.02340435\n",
            "Longitude: 80.2276676154801\n",
            "Near:(13.023722, 80.227985)\n",
            "Index:2994\n"
          ]
        },
        
        {
          "name": "stdout",
          "output_type": "stream",
          "text": [
            "Address: Arun Hospital, Medavakkam Main Road, Nanmangalam, Sholinganallur, Chennai District, Tamil Nadu, 600117, India\n",
            "Latitude: 12.9408644\n",
            "Longitude: 80.1828683\n",
            "Near:(12.940891, 80.182849)\n",
            "Index:3045\n"
          ]
        },
        
        {
          "name": "stdout",
          "output_type": "stream",
          "text": [
            "Address: PN Dhawan Adasrsh Vidyalaya, 202-204-206, Peters Road, CMWSSB Division 115, Zone 9 Teynampet, Chennai, Chennai District, Tamil Nadu, 600014, India\n",
            "Latitude: 13.054627499999999\n",
            "Longitude: 80.26090981782328\n",
            "Near:(13.054208, 80.260916)\n",
            "Index:3244\n",
            "Address: PN Dhawan Adasrsh Vidyalaya, 202-204-206, Peters Road, CMWSSB Division 115, Zone 9 Teynampet, Chennai, Chennai District, Tamil Nadu, 600014, India\n",
            "Latitude: 13.054627499999999\n",
            "Longitude: 80.26090981782328\n",
            "Near:(13.054208, 80.260916)\n",
            "Index:3245\n",
            "Address: PN Dhawan Adasrsh Vidyalaya, 202-204-206, Peters Road, CMWSSB Division 115, Zone 9 Teynampet, Chennai, Chennai District, Tamil Nadu, 600014, India\n",
            "Latitude: 13.054627499999999\n",
            "Longitude: 80.26090981782328\n",
            "Near:(13.054208, 80.260916)\n",
            "Index:3246\n",
            "Address: PN Dhawan Adasrsh Vidyalaya, 202-204-206, Peters Road, CMWSSB Division 115, Zone 9 Teynampet, Chennai, Chennai District, Tamil Nadu, 600014, India\n",
            "Latitude: 13.054627499999999\n",
            "Longitude: 80.26090981782328\n",
            "Near:(13.054208, 80.260916)\n",
            "Index:3247\n",
            "Address: PN Dhawan Adasrsh Vidyalaya, 202-204-206, Peters Road, CMWSSB Division 115, Zone 9 Teynampet, Chennai, Chennai District, Tamil Nadu, 600014, India\n",
            "Latitude: 13.054627499999999\n",
            "Longitude: 80.26090981782328\n",
            "Near:(13.054208, 80.260916)\n",
            "Index:3248\n"
          ]
        },
        
        {
          "name": "stdout",
          "output_type": "stream",
          "text": [
            "Address: Government Hospital of Thoracic Medicine, Grand Southern Trunk Road, East Tambaram, Tambaram, Chengalpattu District, Tamil Nadu, 600059, India\n",
            "Latitude: 12.94224205\n",
            "Longitude: 80.12953109586326\n",
            "Near:(12.942537, 80.13295)\n",
            "Index:3537\n",
            "Address: Sri Sankara Vidyalaya Matriculation Higher Secondary School, 539, Velachery Mudhanmai Salai, East Tambaram, Tambaram, Chengalpattu District, Tamil Nadu, 600059, India\n",
            "Latitude: 12.9228716\n",
            "Longitude: 80.132183\n",
            "Near:(12.922772, 80.131376)\n",
            "Index:3542\n"
          ]
        },
       
        {
          "name": "stdout",
          "output_type": "stream",
          "text": [
            "Address: 4 Squares Dentistry, 141-168, Velachery Mudhanmai Salai, Gowriwakkam, Chennai, Tambaram, Chengalpattu District, Tamil Nadu, 600117, India\n",
            "Latitude: 12.9214652\n",
            "Longitude: 80.1651302\n",
            "Near:(12.921878, 80.16462)\n",
            "Index:3570\n",
            "Address: PN Dhawan Adasrsh Vidyalaya, 202-204-206, Peters Road, CMWSSB Division 115, Zone 9 Teynampet, Chennai, Chennai District, Tamil Nadu, 600014, India\n",
            "Latitude: 13.054627499999999\n",
            "Longitude: 80.26090981782328\n",
            "Near:(13.054138, 80.261617)\n",
            "Index:3623\n",
            "Address: Sankara Nethralaya, College Road, CMWSSB Division 111, Zone 9 Teynampet, Chennai, Chennai District, Tamil Nadu, 600001, India\n",
            "Latitude: 13.0666176\n",
            "Longitude: 80.24932894202547\n",
            "Near:(13.067596, 80.249655)\n",
            "Index:3659\n",
            "Address: Sankara Nethralaya, College Road, CMWSSB Division 111, Zone 9 Teynampet, Chennai, Chennai District, Tamil Nadu, 600001, India\n",
            "Latitude: 13.0666176\n",
            "Longitude: 80.24932894202547\n",
            "Near:(13.067596, 80.249655)\n",
            "Index:3660\n"
          ]
        },
        
        {
          "name": "stdout",
          "output_type": "stream",
          "text": [
            "Address: Sri Sankara Vidyalaya Matriculation Higher Secondary School, 539, Velachery Mudhanmai Salai, East Tambaram, Tambaram, Chengalpattu District, Tamil Nadu, 600059, India\n",
            "Latitude: 12.9228716\n",
            "Longitude: 80.132183\n",
            "Near:(12.92277, 80.131968)\n",
            "Index:3877\n",
            "Address: 4 Squares Dentistry, 141-168, Velachery Mudhanmai Salai, Gowriwakkam, Chennai, Tambaram, Chengalpattu District, Tamil Nadu, 600117, India\n",
            "Latitude: 12.9214652\n",
            "Longitude: 80.1651302\n",
            "Near:(12.921957, 80.16447)\n",
            "Index:3901\n",
            "Address: Harishri Vidyalayam, RK Mutt Road, Ramakrishna Nagar, CMWSSB Division 173, Zone 13 Adyar, Chennai, Chennai District, Tamil Nadu, 600001, India\n",
            "Latitude: 13.02238345\n",
            "Longitude: 80.26285151777164\n",
            "Near:(13.022385, 80.263431)\n",
            "Index:3957\n",
            "Address: Harishri Vidyalayam, RK Mutt Road, Ramakrishna Nagar, CMWSSB Division 173, Zone 13 Adyar, Chennai, Chennai District, Tamil Nadu, 600001, India\n",
            "Latitude: 13.02238345\n",
            "Longitude: 80.26285151777164\n",
            "Near:(13.022385, 80.263431)\n",
            "Index:3958\n",
            "Address: Harishri Vidyalayam, RK Mutt Road, Ramakrishna Nagar, CMWSSB Division 173, Zone 13 Adyar, Chennai, Chennai District, Tamil Nadu, 600001, India\n",
            "Latitude: 13.02238345\n",
            "Longitude: 80.26285151777164\n",
            "Near:(13.022385, 80.263431)\n",
            "Index:3959\n",
            "Address: Harishri Vidyalayam, RK Mutt Road, Ramakrishna Nagar, CMWSSB Division 173, Zone 13 Adyar, Chennai, Chennai District, Tamil Nadu, 600001, India\n",
            "Latitude: 13.02238345\n",
            "Longitude: 80.26285151777164\n",
            "Near:(13.022385, 80.263431)\n",
            "Index:3960\n"
          ]
        },
        
        {
          "name": "stdout",
          "output_type": "stream",
          "text": [
            "Address: Sankara Nethralaya, College Road, CMWSSB Division 111, Zone 9 Teynampet, Chennai, Chennai District, Tamil Nadu, 600001, India\n",
            "Latitude: 13.0666176\n",
            "Longitude: 80.24932894202547\n",
            "Near:(13.067621, 80.249498)\n",
            "Index:3995\n",
            "Address: Sankara Nethralaya, College Road, CMWSSB Division 111, Zone 9 Teynampet, Chennai, Chennai District, Tamil Nadu, 600001, India\n",
            "Latitude: 13.0666176\n",
            "Longitude: 80.24932894202547\n",
            "Near:(13.067809, 80.248438)\n",
            "Index:3996\n",
            "Address: Sankara Nethralaya, College Road, CMWSSB Division 111, Zone 9 Teynampet, Chennai, Chennai District, Tamil Nadu, 600001, India\n",
            "Latitude: 13.0666176\n",
            "Longitude: 80.24932894202547\n",
            "Near:(13.067809, 80.248438)\n",
            "Index:3997\n",
            "Address: Avinash Hospital, 165, Keelkattalai Flyover, Keelkattalai, Chennai, Pallavaram, Chengalpattu District, Tamil Nadu, 600117, India\n",
            "Latitude: 12.949897\n",
            "Longitude: 80.18775085\n",
            "Near:(12.949116, 80.187162)\n",
            "Index:4050\n",
            "Address: Avinash Hospital, 165, Keelkattalai Flyover, Keelkattalai, Chennai, Pallavaram, Chengalpattu District, Tamil Nadu, 600117, India\n",
            "Latitude: 12.949897\n",
            "Longitude: 80.18775085\n",
            "Near:(12.949116, 80.187162)\n",
            "Index:4051\n"
          ]
        },
      ],
      "source": [
        "import pandas as pd\n",
        "from geopy.geocoders import Nominatim\n",
        "from geopy.distance import geodesic\n",
        "\n",
        "\n",
        "RADIUS = 2  # Radius in kilometers\n",
        "\n",
        "#General landmarks for a place\n",
        "regular_landmarks = ['hospital', 'school', 'industrial', 'bus_station', 'train_station', 'police','Airport','Temple','College']\n",
        "#Function to get landmarks\n",
        "def get_landmarks_nearby(center_coords, radius):\n",
        "    geolocator = Nominatim(user_agent=\"my_geocoder\")\n",
        "\n",
        "    landmarks = []\n",
        "    for result in geolocator.reverse(center_coords, exactly_one=False):\n",
        "        dist = geodesic(center_coords, (result.latitude, result.longitude)).kilometers\n",
        "        #Checking whether the landmark is within the radius of the given cordinates\n",
        "        if dist <= radius and any(place_type in result.raw.get('type', []) for place_type in regular_landmarks):\n",
        "            landmarks.append((result.address, result.latitude, result.longitude))\n",
        "\n",
        "    return landmarks\n",
        "#importing excel file of latitude and longitude\n",
        "data = pd.read_excel(io='/content/unnati_phase1_data_revised.xlsx',dtype={'Alert':str,'Time':str,'Lat':float,'Long':float})\n",
        "data['Landmarks'] = None\n",
        "i=0\n",
        "for l in zip(data['Lat'],data['Long']):\n",
        "  landmarks = get_landmarks_nearby(l, RADIUS)\n",
        "  for address, lat, lng in landmarks:\n",
        "    print(f\"Address: {address}\\nLatitude: {lat}\\nLongitude: {lng}\\nNear:{l}\\nIndex:{i}\")\n",
        "    data.at[i,'Landmarks'] = address.split(',')[0]\n",
        "  i+=1\n",
        "data.to_excel('/content/unnati_phase1_data_revised.xlsx',index=False)"
      ]
    }
  ],
  "metadata": {
    "colab": {
      "provenance": [],
      "authorship_tag": "ABX9TyN+dUWLD3DNJV70wUCcIzTN",
      "include_colab_link": true
    },
    "kernelspec": {
      "display_name": "Python 3",
      "name": "python3"
    },
    "language_info": {
      "name": "python"
    }
  },
  "nbformat": 4,
  "nbformat_minor": 0
}
